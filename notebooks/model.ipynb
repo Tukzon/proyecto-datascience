{
 "cells": [
  {
   "attachments": {},
   "cell_type": "markdown",
   "metadata": {},
   "source": [
    "# Modelo"
   ]
  },
  {
   "attachments": {},
   "cell_type": "markdown",
   "metadata": {},
   "source": [
    "### Librerías y carga del dataset"
   ]
  },
  {
   "cell_type": "code",
   "execution_count": 9,
   "metadata": {},
   "outputs": [],
   "source": [
    "import pandas as pd\n",
    "from sklearn.model_selection import train_test_split\n",
    "from sklearn.linear_model import LogisticRegression\n",
    "from sklearn.metrics import classification_report, confusion_matrix\n",
    "\n",
    "%matplotlib inline\n",
    "\n",
    "import matplotlib.pyplot as plt\n",
    "import pickle\n",
    "import os\n",
    "\n",
    "# Directorio que contiene los archivos pkl\n",
    "directorio = '../data/'  # Actualiza con la ruta correcta\n",
    "\n",
    "# Lista para almacenar los DataFrames de los archivos pkl\n",
    "dataframes = []\n",
    "\n",
    "# Recorre los archivos en el directorio\n",
    "for archivo in os.listdir(directorio):\n",
    "    if archivo.endswith('.pkl'):\n",
    "        ruta_archivo = os.path.join(directorio, archivo)\n",
    "        with open(ruta_archivo, 'rb') as f:\n",
    "            data = pickle.load(f)\n",
    "        dataframes.append(data)\n",
    "\n",
    "# Combina los DataFrames en uno solo\n",
    "data = pd.concat(dataframes, ignore_index=True)"
   ]
  },
  {
   "attachments": {},
   "cell_type": "markdown",
   "metadata": {},
   "source": [
    "### Datos sin procesar"
   ]
  },
  {
   "cell_type": "code",
   "execution_count": 10,
   "metadata": {},
   "outputs": [
    {
     "name": "stdout",
     "output_type": "stream",
     "text": [
      "   TRANSACTION_ID TIEMPO_DESDE_ULTIMA_TX_S DIA_TX CLIENTE_ID TERMINAL_ID  \\\n",
      "0          109006                  1728250     20       2537         316   \n",
      "1          109007                  1728315     20       4606          86   \n",
      "2          109008                  1728420     20       7507         271   \n",
      "3          109009                  1728502     20       5030         281   \n",
      "4          109010                  1728805     20       4739         280   \n",
      "\n",
      "   MONTO_TX         TX_DATETIME    year  month   day  hour  minute  \\\n",
      "0  63406.57 2023-01-21 00:04:10  2023.0    1.0  21.0   0.0     4.0   \n",
      "1  47177.10 2023-01-21 00:05:15  2023.0    1.0  21.0   0.0     5.0   \n",
      "2  41771.86 2023-01-21 00:07:00  2023.0    1.0  21.0   0.0     7.0   \n",
      "3  40278.29 2023-01-21 00:08:22  2023.0    1.0  21.0   0.0     8.0   \n",
      "4  39548.41 2023-01-21 00:13:25  2023.0    1.0  21.0   0.0    13.0   \n",
      "\n",
      "   x_pos_terminal  y_pos_terminal  TX_FRAUD  TX_FRAUD_SCENARIO  \n",
      "0       22.600080       40.416937         0                  0  \n",
      "1       21.345491       37.593648         0                  0  \n",
      "2       28.888718        6.730308         0                  0  \n",
      "3       17.314426       28.853382         0                  0  \n",
      "4       10.217906       49.087832         1                  2  \n",
      "filas-data-sucia:  163550\n"
     ]
    }
   ],
   "source": [
    "print(data.head())\n",
    "print(\"filas-data-sucia: \", len(data))"
   ]
  },
  {
   "attachments": {},
   "cell_type": "markdown",
   "metadata": {},
   "source": [
    "### Datos filtrados"
   ]
  },
  {
   "cell_type": "code",
   "execution_count": 11,
   "metadata": {},
   "outputs": [
    {
     "name": "stdout",
     "output_type": "stream",
     "text": [
      "       TIEMPO_DESDE_ULTIMA_TX_S DIA_TX TERMINAL_ID   MONTO_TX  \\\n",
      "125412                     1524      0         429  139447.11   \n",
      "125417                     1805      0          93   92739.05   \n",
      "125419                     1911      0         380  115776.96   \n",
      "125432                     2544      0         233  139610.64   \n",
      "125433                     2552      0         210  132291.02   \n",
      "\n",
      "               TX_DATETIME    year  month  day  hour  minute  x_pos_terminal  \\\n",
      "125412 2023-01-01 00:25:24  2023.0    1.0  1.0   0.0    25.0        3.203366   \n",
      "125417 2023-01-01 00:30:05  2023.0    1.0  1.0   0.0    30.0       49.140856   \n",
      "125419 2023-01-01 00:31:51  2023.0    1.0  1.0   0.0    31.0       45.234308   \n",
      "125432 2023-01-01 00:42:24  2023.0    1.0  1.0   0.0    42.0       25.412377   \n",
      "125433 2023-01-01 00:42:32  2023.0    1.0  1.0   0.0    42.0       28.550428   \n",
      "\n",
      "        y_pos_terminal  TX_FRAUD  TX_FRAUD_SCENARIO  \n",
      "125412       17.765518         1                  1  \n",
      "125417        9.080643         1                  1  \n",
      "125419        1.853052         1                  1  \n",
      "125432       10.428416         1                  1  \n",
      "125433       31.891824         1                  1  \n",
      "total-filas:  47315\n"
     ]
    }
   ],
   "source": [
    "data = data.drop('TRANSACTION_ID', axis=1)\n",
    "data = data.drop('CLIENTE_ID', axis=1)\n",
    "data = data[data['TX_FRAUD'] == 1]\n",
    "data = data.sort_values(by=['TX_DATETIME'])\n",
    "print(data.head())\n",
    "print(\"total-filas: \",len(data) )"
   ]
  },
  {
   "attachments": {},
   "cell_type": "markdown",
   "metadata": {},
   "source": [
    "### Random Forest"
   ]
  },
  {
   "cell_type": "code",
   "execution_count": 12,
   "metadata": {},
   "outputs": [
    {
     "name": "stderr",
     "output_type": "stream",
     "text": [
      "/home/codespace/.local/lib/python3.10/site-packages/sklearn/ensemble/_forest.py:583: UserWarning: Some inputs do not have OOB scores. This probably means too few trees were used to compute any reliable OOB estimates.\n",
      "  warn(\n"
     ]
    },
    {
     "name": "stdout",
     "output_type": "stream",
     "text": [
      "Best n_estimators: 500\n"
     ]
    },
    {
     "data": {
      "image/png": "[encoded data removed]",
      "text/plain": [
       "<Figure size 640x480 with 1 Axes>"
      ]
     },
     "metadata": {},
     "output_type": "display_data"
    }
   ],
   "source": [
    "from sklearn.ensemble import RandomForestRegressor\n",
    "from numpy import inf\n",
    "from sklearn.metrics import r2_score\n",
    "# Variables de entrada\n",
    "X = data[['x_pos_terminal', 'y_pos_terminal','month', 'day', 'hour', 'minute']]\n",
    "# Variables objetivo\n",
    "y = data[['x_pos_terminal', 'y_pos_terminal','month','day', 'hour', 'minute']]\n",
    "\n",
    "# División de los datos en conjuntos de entrenamiento y prueba\n",
    "X_train, X_test, y_train, y_test = train_test_split(X, y, test_size=0.2, random_state=42)\n",
    "\n",
    "n_estimators_range = [10, 50, 100, 200, 500]\n",
    "best_r2_score = -inf\n",
    "best_n_estimators = None\n",
    "\n",
    "# Probar diferentes valores de n_estimators\n",
    "for n_estimators in n_estimators_range:\n",
    "    model = RandomForestRegressor(n_estimators=n_estimators, oob_score=True)\n",
    "    model.fit(X_train, y_train)\n",
    "    y_pred = model.predict(X_test)\n",
    "    r2 = r2_score(y_test, y_pred)\n",
    "    \n",
    "    # Comparar el rendimiento actual con el mejor rendimiento hasta ahora\n",
    "    if r2 > best_r2_score:\n",
    "        best_r2_score = r2\n",
    "        best_n_estimators = n_estimators\n",
    "\n",
    "print(\"Best n_estimators:\", best_n_estimators)\n",
    "\n",
    "# Crear y entrenar el modelo de regresión\n",
    "n_iterations = 20\n",
    "model = RandomForestRegressor(oob_score=True, min_samples_split=5, n_estimators=best_n_estimators)\n",
    "model.fit(X_train, y_train)\n",
    "\n",
    "# Obtener el R-squared inicial\n",
    "initial_r2 = model.oob_score_\n",
    "\n",
    "# Lista para almacenar los R-squared en cada etapa del entrenamiento\n",
    "r2_scores = [initial_r2]\n",
    "\n",
    "# Entrenamiento iterativo del modelo\n",
    "for i in range(n_iterations):\n",
    "    model.estimators_ = model.estimators_[:best_n_estimators]  # Restringir el número de estimadores para la iteración actual\n",
    "    model.fit(X_train, y_train)\n",
    "    r2_score = model.oob_score_\n",
    "    r2_scores.append(r2_score)\n",
    "\n",
    "# Crear el gráfico de progreso del R-squared\n",
    "plt.plot(range(n_iterations + 1), r2_scores)\n",
    "plt.xlabel('Iterations')\n",
    "plt.ylabel('R-squared')\n",
    "plt.title('R-squared vs Iterations')\n",
    "plt.ylim([0.8, 1])\n",
    "plt.show()\n",
    "\n",
    "# Realizar predicciones en el conjunto de prueba\n",
    "y_pred = model.predict(X_test)"
   ]
  },
  {
   "cell_type": "code",
   "execution_count": 13,
   "metadata": {},
   "outputs": [
    {
     "name": "stdout",
     "output_type": "stream",
     "text": [
      "[[40.35883652 17.34346908  1.          6.          8.         18.        ]\n",
      " [40.71744583 33.97438445  1.         12.         15.         11.        ]\n",
      " [46.68881241 45.5141884   1.         21.         11.         28.        ]\n",
      " ...\n",
      " [ 3.86189715 34.00081935  1.         13.         15.         40.        ]\n",
      " [47.99398288 11.78721574  1.          5.         16.         19.        ]\n",
      " [ 5.49665315  8.56372218  1.         13.         12.          4.        ]]\n"
     ]
    }
   ],
   "source": [
    "y_pred_rounded = y_pred.copy()  # Copia los valores predichos\n",
    "\n",
    "# Redondea los valores a enteros en las últimas 4 columnas\n",
    "y_pred_rounded[:, -4:] = y_pred_rounded[:, -4:].round().astype(int)\n",
    "\n",
    "print(y_pred_rounded)\n",
    "rounded_df = pd.DataFrame(y_pred_rounded, columns=y_test.columns)\n",
    "rounded_df.to_csv('../output/predicciones.csv', index=False)"
   ]
  },
  {
   "cell_type": "code",
   "execution_count": 14,
   "metadata": {},
   "outputs": [
    {
     "name": "stdout",
     "output_type": "stream",
     "text": [
      "Mean Squared Error (MSE): 1.6119961497248696\n",
      "Mean Absolute Error (MAE): 0.8816127032747659\n",
      "R-squared: 0.9779884110356835\n"
     ]
    }
   ],
   "source": [
    "from sklearn.metrics import mean_squared_error, mean_absolute_error, r2_score\n",
    "\n",
    "# Calcular las métricas\n",
    "mse = mean_squared_error(y_test, y_pred)\n",
    "mae = mean_absolute_error(y_test, y_pred)\n",
    "r2 = r2_score(y_test, y_pred)\n",
    "\n",
    "# Imprimir las métricas\n",
    "print(\"Mean Squared Error (MSE):\", mse)\n",
    "print(\"Mean Absolute Error (MAE):\", mae)\n",
    "print(\"R-squared:\", r2)\n"
   ]
  },
  {
   "cell_type": "code",
   "execution_count": 15,
   "metadata": {},
   "outputs": [
    {
     "data": {
      "image/png": "[encoded data removed]",
      "text/plain": [
       "<Figure size 640x480 with 1 Axes>"
      ]
     },
     "metadata": {},
     "output_type": "display_data"
    }
   ],
   "source": [
    "import matplotlib.pyplot as plt\n",
    "\n",
    "# Crear listas para almacenar los valores de R-squared\n",
    "train_r2_scores = []\n",
    "test_r2_scores = []\n",
    "\n",
    "# Entrenar el modelo y calcular el R-squared en cada iteración\n",
    "for i in range(n_iterations):\n",
    "    model.fit(X_train, y_train)\n",
    "    train_r2 = model.score(X_train, y_train)\n",
    "    test_r2 = model.score(X_test, y_test)\n",
    "    train_r2_scores.append(train_r2)\n",
    "    test_r2_scores.append(test_r2)\n",
    "\n",
    "# Crear el gráfico de progreso del R-squared\n",
    "plt.plot(range(n_iterations), train_r2_scores, label='Train R-squared')\n",
    "plt.plot(range(n_iterations), test_r2_scores, label='Test R-squared')\n",
    "plt.xlabel('Iterations')\n",
    "plt.ylabel('R-squared')\n",
    "plt.title('R-squared vs Iterations / train vs test')\n",
    "plt.ylim([0, 1])\n",
    "plt.legend()\n",
    "plt.show()"
   ]
  },
  {
   "cell_type": "code",
   "execution_count": 16,
   "metadata": {},
   "outputs": [
    {
     "data": {
      "image/png": "[encoded data removed]",
      "text/plain": [
       "<Figure size 1000x500 with 2 Axes>"
      ]
     },
     "metadata": {},
     "output_type": "display_data"
    }
   ],
   "source": [
    "# Crear listas para almacenar los valores del MSE y el MAE\n",
    "train_mse_scores = []\n",
    "test_mse_scores = []\n",
    "train_mae_scores = []\n",
    "test_mae_scores = []\n",
    "\n",
    "# Entrenar el modelo y calcular el MSE y el MAE en cada iteración\n",
    "for i in range(n_iterations):\n",
    "    model.fit(X_train, y_train)\n",
    "    train_pred = model.predict(X_train)\n",
    "    test_pred = model.predict(X_test)\n",
    "    train_mse = mean_squared_error(y_train, train_pred)\n",
    "    test_mse = mean_squared_error(y_test, test_pred)\n",
    "    train_mae = mean_absolute_error(y_train, train_pred)\n",
    "    test_mae = mean_absolute_error(y_test, test_pred)\n",
    "    train_mse_scores.append(train_mse)\n",
    "    test_mse_scores.append(test_mse)\n",
    "    train_mae_scores.append(train_mae)\n",
    "    test_mae_scores.append(test_mae)\n",
    "\n",
    "# Crear los gráficos de progreso del MSE y el MAE\n",
    "plt.figure(figsize=(10, 5))\n",
    "plt.subplot(1, 2, 1)\n",
    "plt.plot(range(n_iterations), train_mse_scores, label='Train MSE')\n",
    "plt.plot(range(n_iterations), test_mse_scores, label='Test MSE')\n",
    "plt.xlabel('Iterations')\n",
    "plt.ylabel('MSE')\n",
    "plt.title('MSE vs Iterations / train vs test')\n",
    "plt.ylim([0, 10])\n",
    "plt.legend()\n",
    "\n",
    "plt.subplot(1, 2, 2)\n",
    "plt.plot(range(n_iterations), train_mae_scores, label='Train MAE')\n",
    "plt.plot(range(n_iterations), test_mae_scores, label='Test MAE')\n",
    "plt.xlabel('Iterations')\n",
    "plt.ylabel('MAE')\n",
    "plt.title('MAE vs Iterations / train vs test')\n",
    "plt.ylim([0, 10])\n",
    "plt.legend()\n",
    "\n",
    "plt.tight_layout()\n",
    "plt.show()"
   ]
  },
  {
   "attachments": {},
   "cell_type": "markdown",
   "metadata": {},
   "source": [
    "### Validación"
   ]
  },
  {
   "cell_type": "code",
   "execution_count": 28,
   "metadata": {},
   "outputs": [],
   "source": [
    "validacion_directorio = '../validation/'\n",
    "\n",
    "dataframe_validation = []\n",
    "\n",
    "for archivo in os.listdir(validacion_directorio):\n",
    "    if archivo.endswith('.pkl'):\n",
    "        ruta_archivo = os.path.join(validacion_directorio, archivo)\n",
    "        with open(ruta_archivo, 'rb') as f:\n",
    "            data_val = pickle.load(f)\n",
    "        dataframe_validation.append(data_val)\n",
    "\n",
    "# Combina los DataFrames en uno solo\n",
    "data_val = pd.concat(dataframe_validation, ignore_index=True)"
   ]
  },
  {
   "cell_type": "code",
   "execution_count": 29,
   "metadata": {},
   "outputs": [
    {
     "name": "stdout",
     "output_type": "stream",
     "text": [
      "    TIEMPO_DESDE_ULTIMA_TX_S DIA_TX TERMINAL_ID   MONTO_TX  \\\n",
      "756                     1524      0          98  139447.11   \n",
      "757                     1805      0          46   92739.05   \n",
      "759                     5559      0          29   90911.63   \n",
      "760                     6890      0          97   88554.72   \n",
      "766                     9344      0          86   19788.93   \n",
      "\n",
      "            TX_DATETIME    year  month  day  hour  minute  x_pos_terminal  \\\n",
      "756 2023-01-01 00:25:24  2023.0    1.0  1.0   0.0    25.0        3.203366   \n",
      "757 2023-01-01 00:30:05  2023.0    1.0  1.0   0.0    30.0       49.952026   \n",
      "759 2023-01-01 01:32:39  2023.0    1.0  1.0   1.0    32.0       41.457345   \n",
      "760 2023-01-01 01:54:50  2023.0    1.0  1.0   1.0    54.0       45.843067   \n",
      "766 2023-01-01 02:35:44  2023.0    1.0  1.0   2.0    35.0       14.022200   \n",
      "\n",
      "     y_pos_terminal  TX_FRAUD  TX_FRAUD_SCENARIO  \n",
      "756       17.765518         1                  1  \n",
      "757       11.804449         1                  1  \n",
      "759       41.480168         1                  1  \n",
      "760       45.522419         1                  1  \n",
      "766       39.463966         1                  2  \n",
      "total-filas:  5411\n"
     ]
    }
   ],
   "source": [
    "data_val = data_val.drop('TRANSACTION_ID', axis=1)\n",
    "data_val = data_val.drop('CLIENTE_ID', axis=1)\n",
    "data_val = data_val[data_val['TX_FRAUD'] == 1]\n",
    "data_val = data_val.sort_values(by=['TX_DATETIME'])\n",
    "print(data_val.head())\n",
    "print(\"total-filas: \",len(data_val) )"
   ]
  },
  {
   "cell_type": "code",
   "execution_count": 30,
   "metadata": {},
   "outputs": [
    {
     "name": "stdout",
     "output_type": "stream",
     "text": [
      "[[ 3.11342995 17.33338887  1.          4.          3.         25.        ]\n",
      " [47.49212729 11.31785872  1.          6.          6.         33.        ]\n",
      " [43.92876529 46.42314276  1.          4.          5.         34.        ]\n",
      " ...\n",
      " [ 4.88293463 37.56611336  1.         28.         20.         19.        ]\n",
      " [40.00362131 20.05112734  1.         26.         21.         25.        ]\n",
      " [26.23122964 44.53023752  1.         28.         22.         41.        ]]\n",
      "Mean Squared Error (MSE): 1.840390595018424\n",
      "Mean Absolute Error (MAE): 0.9044227236646177\n",
      "R-squared: 0.9774224472974847\n"
     ]
    }
   ],
   "source": [
    "X_val = data_val[['x_pos_terminal', 'y_pos_terminal','month', 'day', 'hour', 'minute']]\n",
    "# Variables objetivo\n",
    "y_val = data_val[['x_pos_terminal', 'y_pos_terminal','month','day', 'hour', 'minute']]\n",
    "\n",
    "# Realizar predicciones en el conjunto de prueba\n",
    "y_pred_val = model.predict(X_val)\n",
    "\n",
    "y_pred_val_original = y_pred_val.copy()  # Copia los valores predichos\n",
    "\n",
    "y_pred_rounded_val = y_pred_val.copy()  # Copia los valores predichos\n",
    "\n",
    "# Redondea los valores a enteros en las últimas 4 columnas\n",
    "y_pred_rounded_val[:, -4:] = y_pred_rounded_val[:, -4:].round().astype(int)\n",
    "\n",
    "print(y_pred_rounded_val)\n",
    "rounded_df_val = pd.DataFrame(y_pred_rounded_val, columns=y_val.columns)\n",
    "rounded_df_val.to_csv('../output/predicciones_val.csv', index=False)\n",
    "\n",
    "# Calcular las métricas\n",
    "mse_val = mean_squared_error(y_val, y_pred_val)\n",
    "mae_val = mean_absolute_error(y_val, y_pred_val)\n",
    "r2_val = r2_score(y_val, y_pred_val)\n",
    "\n",
    "# Imprimir las métricas\n",
    "print(\"Mean Squared Error (MSE):\", mse_val)\n",
    "print(\"Mean Absolute Error (MAE):\", mae_val)\n",
    "print(\"R-squared:\", r2_val)\n"
   ]
  },
  {
   "cell_type": "code",
   "execution_count": 31,
   "metadata": {},
   "outputs": [
    {
     "name": "stdout",
     "output_type": "stream",
     "text": [
      "[[ 3.11342995 17.33338887  1.          3.56894264  3.28972475 25.1388487 ]\n",
      " [47.49212729 11.31785872  1.          5.68769473  5.82185188 32.82444473]\n",
      " [43.92876529 46.42314276  1.          4.14346277  5.13939841 33.76419481]\n",
      " ...\n",
      " [ 4.88293463 37.56611336  1.         27.93415563 20.02534726 18.64561154]\n",
      " [40.00362131 20.05112734  1.         25.79091639 21.30797285 24.78733721]\n",
      " [26.23122964 44.53023752  1.         28.33042453 21.99611739 40.60471053]]\n"
     ]
    }
   ],
   "source": [
    "print(y_pred_val_original)"
   ]
  }
 ],
 "metadata": {
  "kernelspec": {
   "display_name": "Python 3",
   "language": "python",
   "name": "python3"
  },
  "language_info": {
   "codemirror_mode": {
    "name": "ipython",
    "version": 3
   },
   "file_extension": ".py",
   "mimetype": "text/x-python",
   "name": "python",
   "nbconvert_exporter": "python",
   "pygments_lexer": "ipython3",
   "version": "3.10.4"
  },
  "orig_nbformat": 4
 },
 "nbformat": 4,
 "nbformat_minor": 2
}
