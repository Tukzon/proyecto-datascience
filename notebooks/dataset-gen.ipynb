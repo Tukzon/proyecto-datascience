{
 "cells": [
  {
   "attachments": {},
   "cell_type": "markdown",
   "metadata": {},
   "source": [
    "# Sistema generador de transacciones fraudulentas"
   ]
  },
  {
   "attachments": {},
   "cell_type": "markdown",
   "metadata": {},
   "source": [
    "### Librerías varias"
   ]
  },
  {
   "cell_type": "code",
   "execution_count": 1,
   "metadata": {},
   "outputs": [],
   "source": [
    "import os\n",
    "\n",
    "import numpy as np\n",
    "import pandas as pd\n",
    "\n",
    "import datetime\n",
    "import time\n",
    "\n",
    "import random\n",
    "\n",
    "%matplotlib inline\n",
    "\n",
    "import matplotlib.pyplot as plt\n",
    "import seaborn as sns\n",
    "\n",
    "sns.set_style('darkgrid', {'axes.facecolor': '0.9'})"
   ]
  },
  {
   "attachments": {},
   "cell_type": "markdown",
   "metadata": {},
   "source": [
    "### Generación de clientes"
   ]
  },
  {
   "cell_type": "code",
   "execution_count": 2,
   "metadata": {},
   "outputs": [],
   "source": [
    "def generate_customer_profiles_table(n_customers, random_state=0):\n",
    "    \n",
    "    np.random.seed(random_state)\n",
    "        \n",
    "    customer_id_properties=[]\n",
    "    \n",
    "    # Generate customer properties from random distributions \n",
    "    for cliente_id in range(n_customers):\n",
    "        \n",
    "        x_pos_cliente = np.random.uniform(0,100)\n",
    "        y_pos_cliente = np.random.uniform(0,100)\n",
    "        \n",
    "        monto_promedio = np.random.uniform(5000,100000) # Arbitrary (but sensible) value \n",
    "        desviacion_promedio = monto_promedio/2 # Arbitrary (but sensible) value\n",
    "        \n",
    "        promedio_tx_por_dia = np.random.uniform(0,4) # Arbitrary (but sensible) value \n",
    "        \n",
    "        customer_id_properties.append([cliente_id,\n",
    "                                      x_pos_cliente, y_pos_cliente,\n",
    "                                      monto_promedio, desviacion_promedio,\n",
    "                                      promedio_tx_por_dia])\n",
    "        \n",
    "    customer_profiles_table = pd.DataFrame(customer_id_properties, columns=['CLIENTE_ID',\n",
    "                                                                      'x_pos_cliente', 'y_pos_cliente',\n",
    "                                                                      'monto_promedio', 'desviacion_promedio',\n",
    "                                                                      'promedio_tx_por_dia'])\n",
    "    \n",
    "    return customer_profiles_table"
   ]
  },
  {
   "attachments": {},
   "cell_type": "markdown",
   "metadata": {},
   "source": [
    "### Generación de terminales"
   ]
  },
  {
   "cell_type": "code",
   "execution_count": 3,
   "metadata": {},
   "outputs": [],
   "source": [
    "def generate_terminal_profiles_table(n_terminals, random_state=0):\n",
    "    np.random.seed(random_state)\n",
    "    \n",
    "    terminal_id_properties = []\n",
    "    \n",
    "    for terminal_id in range(n_terminals):\n",
    "        x_pos_terminal = np.random.uniform(0, 50)\n",
    "        y_pos_terminal = np.random.uniform(0, 50)\n",
    "        \n",
    "        terminal_id_properties.append([terminal_id, x_pos_terminal, y_pos_terminal])\n",
    "\n",
    "    print('Número de terminales: {}'.format(n_terminals))\n",
    "    \n",
    "    terminal_profiles_table = pd.DataFrame(terminal_id_properties, columns=['TERMINAL_ID', 'x_pos_terminal', 'y_pos_terminal'])\n",
    "    \n",
    "    return terminal_profiles_table"
   ]
  },
  {
   "cell_type": "code",
   "execution_count": 4,
   "metadata": {},
   "outputs": [],
   "source": [
    "def get_list_terminals_within_radius(customer_profile, x_y_terminals, r):\n",
    "    \n",
    "    # Use numpy arrays in the following to speed up computations\n",
    "    \n",
    "    # Location (x,y) of customer as numpy array\n",
    "    x_y_customer = customer_profile[['x_pos_cliente','y_pos_cliente']].values.astype(float)\n",
    "    \n",
    "    # Squared difference in coordinates between customer and terminal locations\n",
    "    squared_diff_x_y = np.square(x_y_customer - x_y_terminals)\n",
    "    \n",
    "    # Sum along rows and compute suared root to get distance\n",
    "    dist_x_y = np.sqrt(np.sum(squared_diff_x_y, axis=1))\n",
    "    \n",
    "    # Get the indices of terminals which are at a distance less than r\n",
    "    terminales_disponibles = list(np.where(dist_x_y<r)[0])\n",
    "    \n",
    "    # Return the list of terminal IDs\n",
    "    return terminales_disponibles"
   ]
  },
  {
   "cell_type": "code",
   "execution_count": 5,
   "metadata": {},
   "outputs": [],
   "source": [
    "def extract_datetime_features(tx_datetime):\n",
    "    features = {}\n",
    "    datetime = pd.to_datetime(tx_datetime)\n",
    "    features['year'] = datetime.year\n",
    "    features['month'] = datetime.month\n",
    "    features['day'] = datetime.day\n",
    "    features['hour'] = datetime.hour\n",
    "    features['minute'] = datetime.minute\n",
    "    return features\n"
   ]
  },
  {
   "attachments": {},
   "cell_type": "markdown",
   "metadata": {},
   "source": [
    "### Generación de transacciones"
   ]
  },
  {
   "cell_type": "code",
   "execution_count": 6,
   "metadata": {},
   "outputs": [],
   "source": [
    "def generate_transactions_table(customer_profile, start_date, nb_days):\n",
    "    \n",
    "    customer_transactions = []\n",
    "    \n",
    "    random.seed(int(customer_profile.CLIENTE_ID))\n",
    "    np.random.seed(int(customer_profile.CLIENTE_ID))\n",
    "    \n",
    "    # For all days\n",
    "    for day in range(nb_days):\n",
    "        \n",
    "        # Random number of transactions for that day \n",
    "        nb_tx = np.random.poisson(customer_profile.promedio_tx_por_dia)\n",
    "        \n",
    "        # If nb_tx positive, let us generate transactions\n",
    "        if nb_tx>0:\n",
    "            \n",
    "            for tx in range(nb_tx):\n",
    "                \n",
    "                # Time of transaction: Around noon, std 20000 seconds. This choice aims at simulating the fact that \n",
    "                # most transactions occur during the day.\n",
    "                time_tx = int(np.random.normal(86400/2, 20000))\n",
    "                \n",
    "                # If transaction time between 0 and 86400, let us keep it, otherwise, let us discard it\n",
    "                if (time_tx>0) and (time_tx<86400):\n",
    "                    \n",
    "                    # Amount is drawn from a normal distribution  \n",
    "                    amount = np.random.normal(customer_profile.monto_promedio, customer_profile.desviacion_promedio)\n",
    "                    \n",
    "                    # If amount negative, draw from a uniform distribution\n",
    "                    if amount<0:\n",
    "                        amount = np.random.uniform(0,customer_profile.monto_promedio*2)\n",
    "                    \n",
    "                    amount=np.round(amount,decimals=2)\n",
    "                    \n",
    "                    if len(customer_profile.terminales_disponibles)>0:\n",
    "                        \n",
    "                        terminal_id = random.choice(customer_profile.terminales_disponibles)\n",
    "                    \n",
    "                        customer_transactions.append([time_tx+day*86400, day,\n",
    "                                                      customer_profile.CLIENTE_ID, \n",
    "                                                      terminal_id, amount])\n",
    "            \n",
    "    customer_transactions = pd.DataFrame(customer_transactions, columns=['TIEMPO_DESDE_ULTIMA_TX_S', 'DIA_TX', 'CLIENTE_ID', 'TERMINAL_ID', 'MONTO_TX'])\n",
    "    \n",
    "    if len(customer_transactions)>0:\n",
    "      customer_transactions['TX_DATETIME'] = pd.to_datetime(customer_transactions[\"TIEMPO_DESDE_ULTIMA_TX_S\"], unit='s', origin=start_date)\n",
    "      customer_transactions['datetime_features'] = customer_transactions['TX_DATETIME'].apply(extract_datetime_features)\n",
    "      customer_transactions = pd.concat([customer_transactions.drop('datetime_features', axis=1), customer_transactions['datetime_features'].apply(pd.Series)], axis=1)\n",
    "      customer_transactions = customer_transactions[['TX_DATETIME', 'CLIENTE_ID', 'TERMINAL_ID', 'MONTO_TX', 'TIEMPO_DESDE_ULTIMA_TX_S', 'DIA_TX', 'year', 'month', 'day', 'hour', 'minute']]\n",
    "\n",
    "    \n",
    "    return customer_transactions "
   ]
  },
  {
   "attachments": {},
   "cell_type": "markdown",
   "metadata": {},
   "source": [
    "### Generación del dataset"
   ]
  },
  {
   "cell_type": "code",
   "execution_count": 7,
   "metadata": {},
   "outputs": [],
   "source": [
    "def generate_dataset(n_customers, n_terminals, nb_days, start_date, r=5):\n",
    "    \n",
    "    start_time=time.time()\n",
    "    customer_profiles_table = generate_customer_profiles_table(n_customers, random_state = 0)\n",
    "    print(\"Generación tabla perfiles de cliente: {0:.2}s\".format(time.time()-start_time))\n",
    "    \n",
    "    start_time=time.time()\n",
    "    terminal_profiles_table = generate_terminal_profiles_table(n_terminals, random_state = 1)\n",
    "    print(\"Generación tabla perfiles de terminal: {0:.2}s\".format(time.time()-start_time))\n",
    "    \n",
    "    start_time=time.time()\n",
    "    x_y_terminals = terminal_profiles_table[['x_pos_terminal','y_pos_terminal']].values.astype(float)\n",
    "    customer_profiles_table['terminales_disponibles'] = customer_profiles_table.apply(lambda x : get_list_terminals_within_radius(x, x_y_terminals=x_y_terminals, r=r), axis=1)\n",
    "    # With Pandarallel\n",
    "    #customer_profiles_table['available_terminals'] = customer_profiles_table.parallel_apply(lambda x : get_list_closest_terminals(x, x_y_terminals=x_y_terminals, r=r), axis=1)\n",
    "    customer_profiles_table['numero_terminales']=customer_profiles_table.terminales_disponibles.apply(len)\n",
    "    print(\"Asociación cliente a terminales: {0:.2}s\".format(time.time()-start_time))\n",
    "    \n",
    "    start_time=time.time()\n",
    "    transactions_df=customer_profiles_table.groupby('CLIENTE_ID').apply(lambda x : generate_transactions_table(x.iloc[0], start_date=start_date,nb_days=nb_days)).reset_index(drop=True)\n",
    "    # With Pandarallel\n",
    "    #transactions_df=customer_profiles_table.groupby('CUSTOMER_ID').parallel_apply(lambda x : generate_transactions_table(x.iloc[0], nb_days=nb_days)).reset_index(drop=True)\n",
    "    print(\"Generación de transacciones: {0:.2}s\".format(time.time()-start_time))\n",
    "    \n",
    "    # Sort transactions chronologically\n",
    "    transactions_df=transactions_df.sort_values('TX_DATETIME')\n",
    "    # Reset indices, starting from 0\n",
    "    transactions_df.reset_index(inplace=True,drop=True)\n",
    "    transactions_df.reset_index(inplace=True)\n",
    "    # TRANSACTION_ID are the dataframe indices, starting from 0\n",
    "    transactions_df.rename(columns = {'index':'TRANSACTION_ID'}, inplace = True)\n",
    "\n",
    "    #SE AÑADEN LAS COORDENADAS DEL TERMINAL PARA USARLAS EN EL ENTRENAMIENTO\n",
    "    transactions_df = pd.merge(transactions_df, terminal_profiles_table[['TERMINAL_ID', 'x_pos_terminal', 'y_pos_terminal']], on='TERMINAL_ID', how='left')\n",
    "\n",
    "    unique_terminal_locations = transactions_df['TERMINAL_ID'].nunique()\n",
    "    print('Número de ubicaciones de terminales: {}'.format(unique_terminal_locations))\n",
    "    \n",
    "    return (customer_profiles_table, terminal_profiles_table, transactions_df)"
   ]
  },
  {
   "attachments": {},
   "cell_type": "markdown",
   "metadata": {},
   "source": [
    "### Inserción de fraudes"
   ]
  },
  {
   "cell_type": "code",
   "execution_count": 8,
   "metadata": {},
   "outputs": [],
   "source": [
    "def add_frauds(customer_profiles_table, terminal_profiles_table, transactions_df):\n",
    "    \n",
    "    # By default, all transactions are genuine\n",
    "    transactions_df['TX_FRAUD']=0\n",
    "    transactions_df['TX_FRAUD_SCENARIO']=0\n",
    "    \n",
    "        # Scenario 1\n",
    "    transactions_df.loc[transactions_df.MONTO_TX>80000, 'TX_FRAUD']=1\n",
    "    transactions_df.loc[transactions_df.MONTO_TX>80000, 'TX_FRAUD_SCENARIO']=1\n",
    "    nb_frauds_scenario_1=transactions_df.TX_FRAUD.sum()\n",
    "    print(\"Number of frauds from scenario 1: \"+str(nb_frauds_scenario_1))\n",
    "    \n",
    "    # Scenario 2\n",
    "    for day in range(transactions_df.DIA_TX.max()):\n",
    "        \n",
    "        compromised_terminals = terminal_profiles_table.TERMINAL_ID.sample(n=2, random_state=day)\n",
    "        \n",
    "        compromised_transactions=transactions_df[(transactions_df.DIA_TX>=day) & \n",
    "                                                    (transactions_df.DIA_TX<day+28) & \n",
    "                                                    (transactions_df.TERMINAL_ID.isin(compromised_terminals))]\n",
    "                            \n",
    "        transactions_df.loc[compromised_transactions.index,'TX_FRAUD']=1\n",
    "        transactions_df.loc[compromised_transactions.index,'TX_FRAUD_SCENARIO']=2\n",
    "    \n",
    "    nb_frauds_scenario_2=transactions_df.TX_FRAUD.sum()-nb_frauds_scenario_1\n",
    "    print(\"Number of frauds from scenario 2: \"+str(nb_frauds_scenario_2))\n",
    "    \n",
    "    # Scenario 3\n",
    "    for day in range(transactions_df.DIA_TX.max()):\n",
    "        \n",
    "        compromised_customers = customer_profiles_table.CLIENTE_ID.sample(n=3, random_state=day).values\n",
    "        \n",
    "        compromised_transactions=transactions_df[(transactions_df.DIA_TX>=day) & \n",
    "                                                    (transactions_df.DIA_TX<day+14) & \n",
    "                                                    (transactions_df.CLIENTE_ID.isin(compromised_customers))]\n",
    "        \n",
    "        nb_compromised_transactions=len(compromised_transactions)\n",
    "        \n",
    "        \n",
    "        random.seed(day)\n",
    "        index_fauds = random.sample(list(compromised_transactions.index.values),k=int(nb_compromised_transactions/3))\n",
    "        \n",
    "        transactions_df.loc[index_fauds,'MONTO_TX']=transactions_df.loc[index_fauds,'MONTO_TX']*5\n",
    "        transactions_df.loc[index_fauds,'TX_FRAUD']=1\n",
    "        transactions_df.loc[index_fauds,'TX_FRAUD_SCENARIO']=3\n",
    "        \n",
    "                             \n",
    "    nb_frauds_scenario_3=transactions_df.TX_FRAUD.sum()-nb_frauds_scenario_2-nb_frauds_scenario_1\n",
    "    print(\"Number of frauds from scenario 3: \"+str(nb_frauds_scenario_3))\n",
    "    \n",
    "    #Scenario 4\n",
    "    transactions_df.loc[transactions_df.hour>21, 'TX_FRAUD']=1\n",
    "    transactions_df.loc[transactions_df.hour>21, 'TX_FRAUD_SCENARIO']=1\n",
    "    nb_frauds_scenario_4=transactions_df.TX_FRAUD.sum()-nb_frauds_scenario_3-nb_frauds_scenario_2-nb_frauds_scenario_1\n",
    "    print(\"Number of frauds from scenario 4: \"+str(nb_frauds_scenario_4))\n",
    "    return transactions_df"
   ]
  },
  {
   "cell_type": "code",
   "execution_count": 9,
   "metadata": {},
   "outputs": [],
   "source": [
    "def get_stats(transactions_df):\n",
    "    #Number of transactions per day\n",
    "    nb_tx_per_day=transactions_df.groupby(['DIA_TX'])['CLIENTE_ID'].count()\n",
    "    #Number of fraudulent transactions per day\n",
    "    nb_fraud_per_day=transactions_df.groupby(['DIA_TX'])['TX_FRAUD'].sum()\n",
    "    #Number of fraudulent cards per day\n",
    "    nb_fraudcard_per_day=transactions_df[transactions_df['TX_FRAUD']>0].groupby(['DIA_TX']).CLIENTE_ID.nunique()\n",
    "    \n",
    "    return (nb_tx_per_day,nb_fraud_per_day,nb_fraudcard_per_day)"
   ]
  },
  {
   "attachments": {},
   "cell_type": "markdown",
   "metadata": {},
   "source": [
    "### Creación de dataset"
   ]
  },
  {
   "cell_type": "code",
   "execution_count": 10,
   "metadata": {},
   "outputs": [
    {
     "name": "stdout",
     "output_type": "stream",
     "text": [
      "Número de terminales: 500\n"
     ]
    }
   ],
   "source": [
    "#CLIENTES\n",
    "n_customers = 10000\n",
    "customer_profiles_table = generate_customer_profiles_table(n_customers, random_state = 0)\n",
    "#TERMINALES\n",
    "n_terminals = 500\n",
    "terminal_profiles_table = generate_terminal_profiles_table(n_terminals, random_state = 0)\n",
    "\n",
    "# We first get the geographical locations of all terminals as a numpy array\n",
    "x_y_terminals = terminal_profiles_table[['x_pos_terminal','y_pos_terminal']].values.astype(float)\n"
   ]
  },
  {
   "cell_type": "code",
   "execution_count": 11,
   "metadata": {},
   "outputs": [],
   "source": [
    "customer_profiles_table['terminales_disponibles']=customer_profiles_table.apply(lambda x : get_list_terminals_within_radius(x, x_y_terminals=x_y_terminals, r=50), axis=1)"
   ]
  },
  {
   "cell_type": "code",
   "execution_count": 12,
   "metadata": {},
   "outputs": [],
   "source": [
    "transaction_table_customer_0=generate_transactions_table(customer_profiles_table.iloc[0], \n",
    "                                                         start_date = \"2023-01-25\", \n",
    "                                                         nb_days = 90)"
   ]
  },
  {
   "cell_type": "code",
   "execution_count": 13,
   "metadata": {},
   "outputs": [],
   "source": [
    "transactions_df=customer_profiles_table.groupby('CLIENTE_ID').apply(lambda x : generate_transactions_table(x.iloc[0], start_date=\"2023-01-25\", nb_days=90)).reset_index(drop=True)"
   ]
  },
  {
   "cell_type": "code",
   "execution_count": 14,
   "metadata": {},
   "outputs": [
    {
     "name": "stdout",
     "output_type": "stream",
     "text": [
      "Generación tabla perfiles de cliente: 0.11s\n",
      "Número de terminales: 500\n",
      "Generación tabla perfiles de terminal: 0.0036s\n",
      "Asociación cliente a terminales: 5.4s\n",
      "Generación de transacciones: 2.4e+02s\n",
      "Número de ubicaciones de terminales: 500\n"
     ]
    }
   ],
   "source": [
    "(customer_profiles_table, terminal_profiles_table, transactions_df)=\\\n",
    "    generate_dataset(n_customers = 10000, \n",
    "                     n_terminals = 500, \n",
    "                     nb_days=90, \n",
    "                     start_date=\"2023-01-25\", \n",
    "                     r=5)"
   ]
  },
  {
   "cell_type": "code",
   "execution_count": 15,
   "metadata": {},
   "outputs": [
    {
     "name": "stdout",
     "output_type": "stream",
     "text": [
      "Number of frauds from scenario 1: 118438\n",
      "Number of frauds from scenario 2: 36058\n",
      "Number of frauds from scenario 3: 365\n",
      "Number of frauds from scenario 4: 7569\n",
      "CPU times: user 14.5 s, sys: 12 ms, total: 14.5 s\n",
      "Wall time: 14.5 s\n"
     ]
    },
    {
     "data": {
      "text/plain": [
       "162430"
      ]
     },
     "execution_count": 15,
     "metadata": {},
     "output_type": "execute_result"
    }
   ],
   "source": [
    "%time transactions_df = add_frauds(customer_profiles_table, terminal_profiles_table, transactions_df)\n",
    "transactions_df.TX_FRAUD.mean()\n",
    "transactions_df.TX_FRAUD.sum()"
   ]
  },
  {
   "attachments": {},
   "cell_type": "markdown",
   "metadata": {},
   "source": [
    "### Exportación del dataset"
   ]
  },
  {
   "cell_type": "code",
   "execution_count": 16,
   "metadata": {},
   "outputs": [],
   "source": [
    "DIR_OUTPUT = \"../data/\"\n",
    "\n",
    "if not os.path.exists(DIR_OUTPUT):\n",
    "    os.makedirs(DIR_OUTPUT)\n",
    "\n",
    "start_date = datetime.datetime.strptime(\"2023-01-25\", \"%Y-%m-%d\")\n",
    "\n",
    "for day in range(transactions_df.DIA_TX.max()+1):\n",
    "    \n",
    "    transactions_day = transactions_df[transactions_df.DIA_TX==day].sort_values('TIEMPO_DESDE_ULTIMA_TX_S')\n",
    "    \n",
    "    date = start_date + datetime.timedelta(days=day)\n",
    "    filename_output = date.strftime(\"%Y-%m-%d\")+'.pkl'\n",
    "    \n",
    "    # Protocol=4 required for Google Colab\n",
    "    transactions_day.to_pickle(DIR_OUTPUT+filename_output, protocol=4)"
   ]
  },
  {
   "attachments": {},
   "cell_type": "markdown",
   "metadata": {},
   "source": [
    "### Creación de la validación"
   ]
  },
  {
   "cell_type": "code",
   "execution_count": 17,
   "metadata": {},
   "outputs": [
    {
     "name": "stdout",
     "output_type": "stream",
     "text": [
      "Número de terminales: 500\n",
      "Generación tabla perfiles de cliente: 0.02s\n",
      "Número de terminales: 500\n",
      "Generación tabla perfiles de terminal: 0.003s\n",
      "Asociación cliente a terminales: 0.93s\n",
      "Generación de transacciones: 2.8e+01s\n",
      "Número de ubicaciones de terminales: 500\n",
      "Number of frauds from scenario 1: 13727\n",
      "Number of frauds from scenario 2: 3511\n",
      "Number of frauds from scenario 3: 286\n",
      "Number of frauds from scenario 4: 866\n",
      "CPU times: user 1.19 s, sys: 3.99 ms, total: 1.19 s\n",
      "Wall time: 1.19 s\n"
     ]
    },
    {
     "data": {
      "text/plain": [
       "18390"
      ]
     },
     "execution_count": 17,
     "metadata": {},
     "output_type": "execute_result"
    }
   ],
   "source": [
    "#CLIENTES\n",
    "n_customers = 2000\n",
    "customer_profiles_table = generate_customer_profiles_table(n_customers, random_state = 0)\n",
    "#TERMINALES\n",
    "n_terminals = 500\n",
    "terminal_profiles_table = generate_terminal_profiles_table(n_terminals, random_state = 0)\n",
    "\n",
    "# We first get the geographical locations of all terminals as a numpy array\n",
    "x_y_terminals = terminal_profiles_table[['x_pos_terminal','y_pos_terminal']].values.astype(float)\n",
    "\n",
    "customer_profiles_table['terminales_disponibles']=customer_profiles_table.apply(lambda x : get_list_terminals_within_radius(x, x_y_terminals=x_y_terminals, r=50), axis=1)\n",
    "\n",
    "transaction_table_customer_0=generate_transactions_table(customer_profiles_table.iloc[0], \n",
    "                                                         start_date = \"2023-02-25\", \n",
    "                                                         nb_days = 50)\n",
    "\n",
    "transactions_df=customer_profiles_table.groupby('CLIENTE_ID').apply(lambda x : generate_transactions_table(x.iloc[0], start_date=\"2023-02-25\", nb_days=50)).reset_index(drop=True)\n",
    "\n",
    "(customer_profiles_table, terminal_profiles_table, transactions_df)=\\\n",
    "    generate_dataset(n_customers = 2000, \n",
    "                     n_terminals = 500, \n",
    "                     nb_days=50, \n",
    "                     start_date=\"2023-02-25\", \n",
    "                     r=5)\n",
    "\n",
    "%time transactions_df = add_frauds(customer_profiles_table, terminal_profiles_table, transactions_df)\n",
    "transactions_df.TX_FRAUD.mean()\n",
    "transactions_df.TX_FRAUD.sum()\n"
   ]
  },
  {
   "cell_type": "code",
   "execution_count": 18,
   "metadata": {},
   "outputs": [],
   "source": [
    "DIR_OUTPUT = \"../validation/\"\n",
    "\n",
    "if not os.path.exists(DIR_OUTPUT):\n",
    "    os.makedirs(DIR_OUTPUT)\n",
    "\n",
    "start_date = datetime.datetime.strptime(\"2023-02-25\", \"%Y-%m-%d\")\n",
    "\n",
    "for day in range(transactions_df.DIA_TX.max()+1):\n",
    "    \n",
    "    transactions_day = transactions_df[transactions_df.DIA_TX==day].sort_values('TIEMPO_DESDE_ULTIMA_TX_S')\n",
    "    \n",
    "    date = start_date + datetime.timedelta(days=day)\n",
    "    filename_output = date.strftime(\"%Y-%m-%d\")+'.pkl'\n",
    "    \n",
    "    # Protocol=4 required for Google Colab\n",
    "    transactions_day.to_pickle(DIR_OUTPUT+filename_output, protocol=4)"
   ]
  }
 ],
 "metadata": {
  "kernelspec": {
   "display_name": "Python 3",
   "language": "python",
   "name": "python3"
  },
  "language_info": {
   "codemirror_mode": {
    "name": "ipython",
    "version": 3
   },
   "file_extension": ".py",
   "mimetype": "text/x-python",
   "name": "python",
   "nbconvert_exporter": "python",
   "pygments_lexer": "ipython3",
   "version": "3.10.4"
  },
  "orig_nbformat": 4
 },
 "nbformat": 4,
 "nbformat_minor": 2
}
